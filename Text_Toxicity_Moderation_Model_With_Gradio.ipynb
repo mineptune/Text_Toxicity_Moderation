{
 "nbformat": 4,
 "nbformat_minor": 5,
 "metadata": {
  "kernelspec": {
   "display_name": "Python 3",
   "language": "python",
   "name": "python3"
  },
  "language_info": {
   "name": "python",
   "version": "3.11"
  },
  "authors": [
   {
    "name": "Neptune Michel"
   }
  ],
  "description": "Text Toxicity Moderation Model with Gradio Interface — fixed version. This metadata block is fully nbformat 5.10+ compatible."
 },
 "cells": [
  {
   "cell_type": "markdown",
   "metadata": {},
   "source": [
    "# 🧠 Text Toxicity Moderation Model\n",
    "**Author:** Neptune Michel  \n",
    "**Environment:** Jupyter Notebook  \n",
    "**Objective:** Detect whether a piece of text is toxic or non-toxic using NLP techniques."
   ]
  },
  {
   "cell_type": "markdown",
   "metadata": {},
   "source": [
    "## 🧭 1. Introduction\n",
    "This project demonstrates how to detect toxic comments (e.g., hate speech, insults, profanity, harassment) using NLP."
   ]
  },
  {
   "cell_type": "code",
   "execution_count": null,
   "metadata": {},
   "outputs": [],
   "source": [
    "# ⚙️ Setup and Imports\n",
    "!pip install pandas numpy scikit-learn matplotlib seaborn transformers torch gradio SpeechRecognition --quiet"
   ]
  }
 ]
}
